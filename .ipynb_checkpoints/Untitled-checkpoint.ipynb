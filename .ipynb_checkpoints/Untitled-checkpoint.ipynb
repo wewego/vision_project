{
 "cells": [
  {
   "cell_type": "code",
   "execution_count": 5,
   "metadata": {},
   "outputs": [
    {
     "name": "stdout",
     "output_type": "stream",
     "text": [
      "Requirement already satisfied: opencv-python in c:\\users\\ahmed\\anaconda3\\lib\\site-packages (4.5.5.64)\n",
      "Requirement already satisfied: numpy>=1.14.5; python_version >= \"3.7\" in c:\\users\\ahmed\\anaconda3\\lib\\site-packages (from opencv-python) (1.19.2)\n",
      "Note: you may need to restart the kernel to use updated packages.\n"
     ]
    }
   ],
   "source": [
    "pip install opencv-python"
   ]
  },
  {
   "cell_type": "code",
   "execution_count": 6,
   "metadata": {},
   "outputs": [],
   "source": [
    "#Importing some important libraries\n",
    "import cv2\n",
    "import numpy as np\n",
    "import matplotlib.image as mpimg\n",
    "import matplotlib.pyplot as plt\n",
    "import glob\n",
    "\n",
    "%matplotlib inline"
   ]
  },
  {
   "cell_type": "code",
   "execution_count": 7,
   "metadata": {},
   "outputs": [],
   "source": [
    "#Function used to handle camera calibration and return a matrix and it correct it from any distortion\n",
    "def calibration_handler():\n",
    "    \n",
    "    x = 9\n",
    "    y = 6\n",
    "\n",
    "\n",
    "    calibratedimages = glob.glob('camera_cal/calibration*.jpg')\n",
    "\n",
    "\n",
    "    imagepoints = []\n",
    "    objectpoints = []\n",
    "\n",
    "    obj3d = np.zeros((x * y, 3), np.float32)\n",
    "    obj3d[:,:2] = np.mgrid[0:9, 0:6].T.reshape(-1,2)\n",
    "\n",
    "    for imageid, imagename in enumerate(calibratedimages):\n",
    "        \n",
    "        image = cv2.imread(imagename)\n",
    "        gray = cv2.cvtColor(image, cv2.COLOR_RGB2GRAY)\n",
    "        ret, corners = cv2.findChessboardCorners(gray, (x, y), None)\n",
    "\n",
    "        if (ret == True):\n",
    "            image = cv2.drawChessboardCorners(image, (x, y), corners, ret)\n",
    "            imagepoints.append(corners)\n",
    "            objectpoints.append(obj3d)\n",
    "        \n",
    "\n",
    "    ret, matrix, dist, rvecs, tvecs = cv2.calibrateCamera(objectpoints, imagepoints, image.shape[1::-1], None, None)\n",
    "    return matrix,dist\n",
    "\n",
    "#The function handle video and returns left and right fit for the lane\n",
    "\n",
    "def video_handler(warped):\n",
    "    if((left.storednumber == 0) and (right.storednumber == 0)):\n",
    "        left_of_x, left_of_y, right_of_x, right_of_y, outimage = pixel_finder(warped)\n",
    "    else:\n",
    "        left_of_x, left_of_y, right_of_x, right_of_y = poly_searcher(warped, left.fit, right.fit)\n",
    "        \n",
    "    left_fit = np.polyfit(left_of_y, left_of_x, 2)\n",
    "    right_fit = np.polyfit(right_of_y, right_of_x, 2)\n",
    "    if(np.abs(left_fit[1] - right_fit[1]) <= .50 and np.abs(left_fit[0] - right_fit[0]) <= .50):\n",
    "        left_fit = left.appendCoeffs(left_fit)\n",
    "        right_fit = right.appendCoeffs(right_fit)\n",
    "    else:\n",
    "        left_fit = left.appendCoeffs(left.fit)\n",
    "        right_fit = right.appendCoeffs(right.fit)\n",
    "        \n",
    "    return left_fit,right_fit\n"
   ]
  },
  {
   "cell_type": "code",
   "execution_count": 8,
   "metadata": {},
   "outputs": [],
   "source": [
    "matrix,dist = calibration_handler()"
   ]
  },
  {
   "cell_type": "code",
   "execution_count": null,
   "metadata": {},
   "outputs": [],
   "source": []
  }
 ],
 "metadata": {
  "kernelspec": {
   "display_name": "Python 3",
   "language": "python",
   "name": "python3"
  },
  "language_info": {
   "codemirror_mode": {
    "name": "ipython",
    "version": 3
   },
   "file_extension": ".py",
   "mimetype": "text/x-python",
   "name": "python",
   "nbconvert_exporter": "python",
   "pygments_lexer": "ipython3",
   "version": "3.8.5"
  }
 },
 "nbformat": 4,
 "nbformat_minor": 4
}
